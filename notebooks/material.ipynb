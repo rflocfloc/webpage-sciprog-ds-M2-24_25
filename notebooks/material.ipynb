{
 "cells": [
  {
   "cell_type": "markdown",
   "metadata": {
    "nbsphinx": "hidden"
   },
   "source": [
    "### NOTE FOR LUCA\n",
    "\n",
    "**Remember to set/remove metadata as:**\n",
    "{\n",
    "  \"nbsphinx\": \"hidden\"\n",
    "}\n",
    "\n",
    "to enable/disable solutions view"
   ]
  },
  {
   "cell_type": "markdown",
   "metadata": {},
   "source": [
    "### Material available for midterms and exams\n",
    "\n",
    "The course notes can be used as the slides of the theory and practicals. Documentation on the libraries are here (check the midterm simulation page to download them):\n",
    "\n",
    "* [matplotlib](material/Matplotlib.pdf)\n",
    "* [numpy](material/numpy-ref.pdf)\n",
    "* [pandas](material/pandas.pdf)\n",
    "* [biopython](material/Biopython.pdf)\n",
    "\n",
    "You can download all of them here: [archive](material/material.zip)"
   ]
  }
 ],
 "metadata": {
  "celltoolbar": "Edit Metadata",
  "kernelspec": {
   "display_name": "Python 3",
   "language": "python",
   "name": "python3"
  },
  "language_info": {
   "codemirror_mode": {
    "name": "ipython",
    "version": 3
   },
   "file_extension": ".py",
   "mimetype": "text/x-python",
   "name": "python",
   "nbconvert_exporter": "python",
   "pygments_lexer": "ipython3",
   "version": "3.6.9"
  }
 },
 "nbformat": 4,
 "nbformat_minor": 2
}
