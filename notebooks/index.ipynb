{
 "cells": [
  {
   "cell_type": "markdown",
   "metadata": {},
   "source": [
    "# Scientific Programming for Data Science - Module 2\n"
   ]
  },
  {
   "cell_type": "markdown",
   "metadata": {},
   "source": [
    "# General Info\n",
    "\n",
    "**Module 2 - Algorithms and Data Structures**\n",
    "\n",
    "**November-December 2023** \n",
    "\n",
    "Material for the practical class of Scientific Programming (Module 2). Master of Data Science - University of Trento \n",
    "\n",
    "Lecturer: Davide Bressan **davide dot bressan-1 at unitn dot it**.\n",
    "\n",
    "## Timetable and lecture rooms\n",
    "\n",
    "Practicals will be held on **Tuesdays from 16:30 to 18:30 (room A202)** and on **Fridays from 15:30 to 17:30 (room B106)**.\n",
    "\n",
    "The teaching will be divided in two modules according to the theoretical part provided by Prof. Passerini (1st module) and Prof. Romanel (2nd module). Each module will be composed of 12 lessons (6 weeks) that also comprehend 2 mid-term exams, one between the two modules (beginning of november) and one at the end (end of december).\n",
    "For questions regarding the theoretical part please refer to Prof. Alessandro Romanel.\n",
    "\n",
    "## Equipment\n",
    "\n",
    "Even if the lessons are provided in a standard room, we will try to keep the form of practical lessons held in a computer science lab. For this reason, **students are highly encouraged to bring their personal laptop to work independently in solving the exercises**.\n",
    "\n",
    "## Acknowledgements\n",
    "\n",
    "Thanks to **David Leoni, Stefano Teso, Luca Bianco, and Erik Dassi** that contributed to develop this resource over the years. "
   ]
  }
 ],
 "metadata": {
  "celltoolbar": "Edit Metadata",
  "kernelspec": {
   "display_name": "Python 3",
   "language": "python",
   "name": "python3"
  },
  "language_info": {
   "codemirror_mode": {
    "name": "ipython",
    "version": 3
   },
   "file_extension": ".py",
   "mimetype": "text/x-python",
   "name": "python",
   "nbconvert_exporter": "python",
   "pygments_lexer": "ipython3",
   "version": "3.6.9"
  },
  "toc": {
   "base_numbering": 1,
   "nav_menu": {},
   "number_sections": false,
   "sideBar": true,
   "skip_h1_title": false,
   "title_cell": "Table of Contents",
   "title_sidebar": "Contents",
   "toc_cell": false,
   "toc_position": {},
   "toc_section_display": true,
   "toc_window_display": false
  }
 },
 "nbformat": 4,
 "nbformat_minor": 2
}
